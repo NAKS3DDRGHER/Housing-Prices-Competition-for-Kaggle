{
 "cells": [
  {
   "cell_type": "code",
   "id": "initial_id",
   "metadata": {
    "collapsed": true,
    "ExecuteTime": {
     "end_time": "2024-12-13T10:34:28.792815Z",
     "start_time": "2024-12-13T10:34:28.161227Z"
    }
   },
   "source": [
    "import pandas as pd\n",
    "import numpy as np\n",
    "import matplotlib.pyplot as plt"
   ],
   "outputs": [],
   "execution_count": 1
  },
  {
   "metadata": {
    "ExecuteTime": {
     "end_time": "2024-12-13T10:36:17.609522Z",
     "start_time": "2024-12-13T10:36:17.536659Z"
    }
   },
   "cell_type": "code",
   "source": [
    "train = pd.read_csv('data/train.csv')\n",
    "test = pd.read_csv('data/test.csv')\n",
    "Y = train['SalePrice'].copy()\n",
    "\n",
    "train.drop([\"Id\"], axis=1, inplace=True)\n",
    "train.drop([\"SalePrice\"], axis=1, inplace=True)\n",
    "\n",
    "train.drop([\"Exterior2nd\"], axis=1, inplace=True)\n",
    "test.drop([\"Exterior2nd\"], axis=1, inplace=True)\n",
    "\n",
    "train.drop([\"Foundation\"], axis=1, inplace=True)\n",
    "test.drop([\"Foundation\"], axis=1, inplace=True)\n",
    "\n",
    "train.drop([\"Heating\"], axis=1, inplace=True)\n",
    "test.drop([\"Heating\"], axis=1, inplace=True)\n",
    "\n",
    "train.drop([\"Functional\"], axis=1, inplace=True)\n",
    "test.drop([\"Functional\"], axis=1, inplace=True)\n",
    "\n",
    "train.drop([\"SaleType\"], axis=1, inplace=True)\n",
    "test.drop([\"SaleType\"], axis=1, inplace=True)\n",
    "\n",
    "train.drop([\"LotConfig\"], axis=1, inplace=True)\n",
    "test.drop([\"LotConfig\"], axis=1, inplace=True)\n",
    "\n",
    "train.drop([\"Condition2\"], axis=1, inplace=True)\n",
    "test.drop([\"Condition2\"], axis=1, inplace=True)\n",
    "\n",
    "train.drop([\"Exterior1st\"], axis=1, inplace=True)\n",
    "test.drop([\"Exterior1st\"], axis=1, inplace=True)\n"
   ],
   "id": "c9087930e9a2d0fd",
   "outputs": [],
   "execution_count": 21
  },
  {
   "metadata": {
    "ExecuteTime": {
     "end_time": "2024-12-13T10:36:17.971634Z",
     "start_time": "2024-12-13T10:36:17.923468Z"
    }
   },
   "cell_type": "code",
   "source": [
    "#fork with NA\n",
    "zero_fill_cols = [\n",
    "    \"PoolQC\", \"Fence\", \"FireplaceQu\", \"GarageCond\", \"GarageFinish\", \"GarageQual\",\n",
    "    \"BsmtFinType2\", \"BsmtExposure\", \"BsmtQual\", \"BsmtCond\", \"BsmtFinType1\"\n",
    "]\n",
    "\n",
    "for col in zero_fill_cols:\n",
    "        train[col].fillna(0, inplace=True)\n",
    "        test[col].fillna(0, inplace=True)\n",
    "        \n",
    "train['LotFrontage'].fillna(train['LotFrontage'].median(), inplace=True)\n",
    "test['LotFrontage'].fillna(test['LotFrontage'].median(), inplace=True)\n",
    "\n",
    "train[\"GarageYrBlt\"].fillna(train[\"GarageYrBlt\"].mean(), inplace=True)\n",
    "test[\"GarageYrBlt\"].fillna(test[\"GarageYrBlt\"].mean(), inplace=True)\n",
    "\n",
    "train['MasVnrArea'].fillna(train['MasVnrArea'].mean(), inplace=True)\n",
    "test[\"MasVnrArea\"].fillna(test[\"MasVnrArea\"].mean(), inplace=True)\n",
    "\n",
    "test[\"BsmtHalfBath\"].fillna(test[\"BsmtHalfBath\"].median(), inplace=True)\n",
    "test[\"BsmtFullBath\"].fillna(test[\"BsmtFullBath\"].median(), inplace=True)\n",
    "test[\"BsmtFinSF2\"].fillna(test[\"BsmtFinSF2\"].median(), inplace=True)\n",
    "test[\"BsmtFinSF1\"].fillna(test[\"BsmtFinSF1\"].median(), inplace=True)\n",
    "test[\"BsmtUnfSF\"].fillna(test[\"BsmtUnfSF\"].median(), inplace=True)\n",
    "test[\"GarageCars\"].fillna(test[\"GarageCars\"].median(), inplace=True)\n",
    "test[\"GarageArea\"].fillna(test[\"GarageArea\"].median(), inplace=True)\n",
    "test[\"TotalBsmtSF\"].fillna(test[\"TotalBsmtSF\"].median(), inplace=True)"
   ],
   "id": "6bc5e76dd95a05d4",
   "outputs": [],
   "execution_count": 22
  },
  {
   "metadata": {
    "ExecuteTime": {
     "end_time": "2024-12-13T10:36:18.746535Z",
     "start_time": "2024-12-13T10:36:18.365858Z"
    }
   },
   "cell_type": "code",
   "source": [
    "#Handling text\n",
    "# rating categories\n",
    "train[\"PoolQC\"].replace([\"Ex\", \"Gd\", \"TA\", \"Fa\"], range(4, 0, -1), inplace=True)\n",
    "test[\"PoolQC\"].replace([\"Ex\", \"Gd\", \"TA\", \"Fa\"], range(4, 0, -1), inplace=True)\n",
    "\n",
    "train[\"Fence\"].replace([\"GdPrv\", \"MnPrv\", \"GdWo\",\"MnWw\"], range(4, 0, -1), inplace=True)\n",
    "test[\"Fence\"].replace([\"GdPrv\", \"MnPrv\", \"GdWo\",\"MnWw\"], range(4, 0, -1), inplace=True)\n",
    "\n",
    "train[\"FireplaceQu\"].replace([\"Ex\", \"Gd\", \"TA\", \"Fa\", \"Po\"], range(5, 0, -1), inplace=True)\n",
    "test[\"FireplaceQu\"].replace([\"Ex\", \"Gd\", \"TA\", \"Fa\", \"Po\"], range(5, 0, -1), inplace=True)\n",
    "\n",
    "train[\"GarageCond\"].replace([\"Ex\", \"Gd\", \"TA\", \"Fa\", \"Po\"], range(5, 0, -1), inplace=True)\n",
    "test[\"GarageCond\"].replace([\"Ex\", \"Gd\", \"TA\", \"Fa\", \"Po\"], range(5, 0, -1), inplace=True)\n",
    "\n",
    "train[\"GarageFinish\"].replace([\"Fin\", \"RFn\", \"Unf\"], range(3, 0, -1), inplace=True)\n",
    "test[\"GarageFinish\"].replace([\"Fin\", \"RFn\", \"Unf\"], range(3, 0, -1), inplace=True)\n",
    "\n",
    "train[\"GarageQual\"].replace([\"Ex\", \"Gd\", \"TA\", \"Fa\", \"Po\"], range(5, 0, -1), inplace=True)\n",
    "test[\"GarageQual\"].replace([\"Ex\", \"Gd\", \"TA\", \"Fa\", \"Po\"], range(5, 0, -1), inplace=True)\n",
    "\n",
    "train[\"BsmtFinType2\"].replace([\"GLQ\", \"ALQ\", \"BLQ\", \"Rec\", \"LwQ\", \"Unf\"], range(6, 0, -1), inplace=True)\n",
    "test[\"BsmtFinType2\"].replace([\"GLQ\", \"ALQ\", \"BLQ\", \"Rec\", \"LwQ\", \"Unf\"], range(6, 0, -1), inplace=True)\n",
    "\n",
    "train[\"BsmtExposure\"].replace([\"Gd\", \"Av\", \"Mn\", \"No\"], range(4, 0, -1), inplace=True)\n",
    "test[\"BsmtExposure\"].replace([\"Gd\", \"Av\", \"Mn\", \"No\"], range(4, 0, -1), inplace=True)\n",
    "\n",
    "train[\"BsmtQual\"].replace([\"Ex\", \"Gd\", \"TA\", \"Fa\", \"Po\"], range(5, 0, -1), inplace=True)\n",
    "test[\"BsmtQual\"].replace([\"Ex\", \"Gd\", \"TA\", \"Fa\", \"Po\"], range(5, 0, -1), inplace=True)\n",
    "\n",
    "train[\"BsmtCond\"].replace([\"Ex\", \"Gd\", \"TA\", \"Fa\", \"Po\"], range(5, 0, -1), inplace=True)\n",
    "test[\"BsmtCond\"].replace([\"Ex\", \"Gd\", \"TA\", \"Fa\", \"Po\"], range(5, 0, -1), inplace=True)\n",
    "\n",
    "train[\"BsmtFinType1\"].replace([\"GLQ\", \"ALQ\", \"BLQ\", \"Rec\", \"LwQ\", \"Unf\"], range(6, 0, -1), inplace=True)\n",
    "test[\"BsmtFinType1\"].replace([\"GLQ\", \"ALQ\", \"BLQ\", \"Rec\", \"LwQ\", \"Unf\"], range(6, 0, -1), inplace=True)\n",
    "\n",
    "train[\"LotShape\"].replace([\"Reg\", \"IR1\", \"IR2\",\"IR3\"], range(4, 0, -1), inplace=True)\n",
    "test[\"LotShape\"].replace([\"Reg\", \"IR1\", \"IR2\",\"IR3\"], range(4, 0, -1), inplace=True)\n",
    "\n",
    "train[\"LandContour\"].replace([\"Lvl\", \"Bnk\", \"HLS\",\"Low\"], range(4, 0, -1), inplace=True)\n",
    "test[\"LandContour\"].replace([\"Lvl\", \"Bnk\", \"HLS\",\"Low\"], range(4, 0, -1), inplace=True)\n",
    "\n",
    "train[\"Utilities\"].replace([\"AllPub\", \"NoSewr\", \"NoSeWa\",\"ELO\", np.nan], range(4, -1, -1), inplace=True)\n",
    "test[\"Utilities\"].replace([\"AllPub\", \"NoSewr\", \"NoSeWa\",\"ELO\", np.nan], range(4, -1, -1), inplace=True)\n",
    "\n",
    "train[\"LandSlope\"].replace([\"Gtl\", \"Mod\", \"Sev\"], range(3, 0, -1), inplace=True)\n",
    "test[\"LandSlope\"].replace([\"Gtl\", \"Mod\", \"Sev\"], range(3, 0, -1), inplace=True)\n",
    "\n",
    "train[\"RoofMatl\"].replace([\"ClyTile\", \"CompShg\", \"Membran\", \"Metal\", \"Roll\", \"Tar&Grv\", \"WdShake\", \"WdShngl\"], range(8, 0, -1), inplace=True)\n",
    "test[\"RoofMatl\"].replace([\"ClyTile\", \"CompShg\", \"Membran\", \"Metal\", \"Roll\", \"Tar&Grv\", \"WdShake\", \"WdShngl\"], range(8, 0, -1), inplace=True)\n",
    "\n",
    "train[\"ExterQual\"].replace([\"Ex\", \"Gd\", \"TA\", \"Fa\", \"Po\"], range(5, 0, -1), inplace=True)\n",
    "test[\"ExterQual\"].replace([\"Ex\", \"Gd\", \"TA\", \"Fa\", \"Po\"], range(5, 0, -1), inplace=True)\n",
    "\n",
    "train[\"ExterCond\"].replace([\"Ex\", \"Gd\", \"TA\", \"Fa\", \"Po\"], range(5, 0, -1), inplace=True)\n",
    "test[\"ExterCond\"].replace([\"Ex\", \"Gd\", \"TA\", \"Fa\", \"Po\"], range(5, 0, -1), inplace=True)\n",
    "\n",
    "train[\"HeatingQC\"].replace([\"Ex\", \"Gd\", \"TA\", \"Fa\", \"Po\"], range(5, 0, -1), inplace=True)\n",
    "test[\"HeatingQC\"].replace([\"Ex\", \"Gd\", \"TA\", \"Fa\", \"Po\"], range(5, 0, -1), inplace=True)\n",
    "\n",
    "train[\"CentralAir\"].replace([\"Y\", \"N\"], range(1, -1, -1), inplace=True)\n",
    "test[\"CentralAir\"].replace([\"Y\", \"N\"], range(1, -1, -1), inplace=True)\n",
    "\n",
    "train[\"KitchenQual\"].replace([\"Ex\", \"Gd\", \"TA\", \"Fa\", \"Po\", np.nan], range(5, -1, -1), inplace=True)\n",
    "test[\"KitchenQual\"].replace([\"Ex\", \"Gd\", \"TA\", \"Fa\", \"Po\", np.nan], range(5, -1, -1), inplace=True)\n",
    "\n",
    "train[\"PavedDrive\"].replace([\"Y\",\"P\", \"N\"], range(2, -1, -1), inplace=True)\n",
    "test[\"PavedDrive\"].replace([\"Y\",\"P\", \"N\"], range(2, -1, -1), inplace=True)\n",
    "\n",
    "\n",
    "\n",
    "# one-hot\n",
    "train = pd.get_dummies(train, columns=['Alley'])\n",
    "test = pd.get_dummies(test, columns=['Alley'])\n",
    "\n",
    "train = pd.get_dummies(train, columns=['MiscFeature'])\n",
    "train.drop([\"MiscFeature_TenC\"], axis=1, inplace=True) # ignore this column, does not exist in test\n",
    "test = pd.get_dummies(test, columns=['MiscFeature'])\n",
    "# unimportant column\n",
    "train.drop([\"MiscFeature_Othr\"], axis=1, inplace=True) \n",
    "test.drop([\"MiscFeature_Othr\"], axis=1, inplace=True)\n",
    "\n",
    "train = pd.get_dummies(train, columns=['GarageType'])\n",
    "test = pd.get_dummies(test, columns=['GarageType'])\n",
    "\n",
    "train = pd.get_dummies(train, columns=['MasVnrType'])\n",
    "test = pd.get_dummies(test, columns=['MasVnrType'])\n",
    "\n",
    "train = pd.get_dummies(train, columns=['Electrical'])\n",
    "test = pd.get_dummies(test, columns=['Electrical'])\n",
    "train.drop([\"Electrical_Mix\"], axis=1, inplace=True) \n",
    "\n",
    "train = pd.get_dummies(train, columns=['MSZoning'])\n",
    "test = pd.get_dummies(test, columns=['MSZoning'])\n",
    "\n",
    "train = pd.get_dummies(train, columns=['Street'])\n",
    "test = pd.get_dummies(test, columns=['Street'])\n",
    "\n",
    "train = pd.get_dummies(train, columns=['Neighborhood'])\n",
    "test = pd.get_dummies(test, columns=['Neighborhood'])\n",
    "\n",
    "train = pd.get_dummies(train, columns=['Condition1'])\n",
    "test = pd.get_dummies(test, columns=['Condition1'])\n",
    "\n",
    "train = pd.get_dummies(train, columns=['BldgType'])\n",
    "test = pd.get_dummies(test, columns=['BldgType'])\n",
    "\n",
    "train = pd.get_dummies(train, columns=['HouseStyle'])\n",
    "test = pd.get_dummies(test, columns=['HouseStyle'])\n",
    "train.drop([\"HouseStyle_2.5Fin\"], axis=1, inplace=True) \n",
    "\n",
    "train = pd.get_dummies(train, columns=['RoofStyle'])\n",
    "test = pd.get_dummies(test, columns=['RoofStyle'])\n",
    "\n",
    "train = pd.get_dummies(train, columns=['SaleCondition'])\n",
    "test = pd.get_dummies(test, columns=['SaleCondition'])\n"
   ],
   "id": "c10137e9e1c29966",
   "outputs": [],
   "execution_count": 23
  },
  {
   "metadata": {
    "ExecuteTime": {
     "end_time": "2024-12-13T10:38:21.781973Z",
     "start_time": "2024-12-13T10:38:21.637178Z"
    }
   },
   "cell_type": "code",
   "source": [
    "df = train.copy()\n",
    "df[\"SalePrice\"] = Y\n",
    "corr_matrix = df.corr(numeric_only=True)\n",
    "corr_matrix = corr_matrix[\"SalePrice\"].sort_values(key=lambda x: abs(x))\n",
    "for i in corr_matrix.index:\n",
    "    if abs(corr_matrix[i]) < 0.05: \n",
    "        train.drop([i], axis=1, inplace=True)\n",
    "        test.drop([i], axis=1, inplace=True)\n"
   ],
   "id": "d38f7a99ca0ce075",
   "outputs": [],
   "execution_count": 26
  },
  {
   "metadata": {
    "ExecuteTime": {
     "end_time": "2024-12-13T10:38:22.272664Z",
     "start_time": "2024-12-13T10:38:22.213372Z"
    }
   },
   "cell_type": "code",
   "source": [
    "train.to_csv(\"data/n_train.csv\", index=False)\n",
    "Y.to_csv(\"data/labels.csv\", index=False)\n",
    "test.to_csv(\"data/n_test.csv\", index=False)"
   ],
   "id": "72ddc75b0e8be5ed",
   "outputs": [],
   "execution_count": 27
  },
  {
   "metadata": {
    "ExecuteTime": {
     "end_time": "2024-12-13T10:53:20.485521Z",
     "start_time": "2024-12-13T10:53:20.476548Z"
    }
   },
   "cell_type": "code",
   "source": "train.shape",
   "id": "13a8f1e72721a709",
   "outputs": [
    {
     "data": {
      "text/plain": [
       "(1460, 102)"
      ]
     },
     "execution_count": 29,
     "metadata": {},
     "output_type": "execute_result"
    }
   ],
   "execution_count": 29
  },
  {
   "metadata": {
    "ExecuteTime": {
     "end_time": "2024-12-10T11:06:12.596346Z",
     "start_time": "2024-12-10T11:06:12.581260Z"
    }
   },
   "cell_type": "code",
   "source": [
    "df = train.copy()\n",
    "df[\"SalePrice\"] = Y\n",
    "corr_matrix = df.corr(numeric_only=True)\n",
    "corr_matrix[\"SalePrice\"].sort_values(key=lambda x: abs(x))"
   ],
   "id": "25011445ecf8437c",
   "outputs": [
    {
     "data": {
      "text/plain": [
       "YearRemodAdd    0.507101\n",
       "FireplaceQu     0.520438\n",
       "YearBuilt       0.522897\n",
       "TotRmsAbvGrd    0.533723\n",
       "GarageFinish    0.549247\n",
       "FullBath        0.560664\n",
       "BsmtQual        0.585207\n",
       "1stFlrSF        0.605852\n",
       "TotalBsmtSF     0.613581\n",
       "GarageArea      0.623431\n",
       "GarageCars      0.640409\n",
       "KitchenQual     0.659600\n",
       "ExterQual       0.682639\n",
       "GrLivArea       0.708624\n",
       "OverallQual     0.790982\n",
       "SalePrice       1.000000\n",
       "Name: SalePrice, dtype: float64"
      ]
     },
     "execution_count": 107,
     "metadata": {},
     "output_type": "execute_result"
    }
   ],
   "execution_count": 107
  },
  {
   "metadata": {
    "ExecuteTime": {
     "end_time": "2024-12-10T14:43:18.617926Z",
     "start_time": "2024-12-10T14:43:18.610873Z"
    }
   },
   "cell_type": "code",
   "source": "train.shape",
   "id": "b7474af750473b7d",
   "outputs": [
    {
     "data": {
      "text/plain": [
       "(1460, 15)"
      ]
     },
     "execution_count": 109,
     "metadata": {},
     "output_type": "execute_result"
    }
   ],
   "execution_count": 109
  },
  {
   "metadata": {},
   "cell_type": "code",
   "outputs": [],
   "execution_count": null,
   "source": "",
   "id": "f1f52963152b60e7"
  }
 ],
 "metadata": {
  "kernelspec": {
   "display_name": "Python 3",
   "language": "python",
   "name": "python3"
  },
  "language_info": {
   "codemirror_mode": {
    "name": "ipython",
    "version": 2
   },
   "file_extension": ".py",
   "mimetype": "text/x-python",
   "name": "python",
   "nbconvert_exporter": "python",
   "pygments_lexer": "ipython2",
   "version": "2.7.6"
  }
 },
 "nbformat": 4,
 "nbformat_minor": 5
}
